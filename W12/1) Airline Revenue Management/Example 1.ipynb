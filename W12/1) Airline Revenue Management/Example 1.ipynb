{
 "cells": [
  {
   "cell_type": "code",
   "execution_count": 6,
   "metadata": {},
   "outputs": [
    {
     "data": {
      "text/latex": [
       "$$ \\begin{alignat*}{1}\\min\\quad & 0\\\\\n",
       "\\text{Subject to} \\quad\\end{alignat*}\n",
       " $$"
      ],
      "text/plain": [
       "Feasibility problem with:\n",
       " * 0 linear constraints\n",
       " * 0 variables\n",
       "Solver is Clp"
      ]
     },
     "execution_count": 6,
     "metadata": {},
     "output_type": "execute_result"
    }
   ],
   "source": [
    "#LOAD PACKAGES\n",
    "#-------------\n",
    "using JuMP  # Need to say it whenever we use JuMP\n",
    "#using GLPKMathProgInterface # Loading the GLPK module for using its solver\n",
    "using Clp\n",
    "\n",
    "#MODEL CONSTRUCTION\n",
    "#------------------\n",
    "myModel = Model(solver=ClpSolver()) \n",
    "# Name of the model object. All constraints and variables of an optimization problem are associated \n",
    "# with a particular model object.  \n",
    "# The argument of Model, solver=GLPKsolverLP() means that to solve the optimization problem we will use GLPK solver."
   ]
  },
  {
   "cell_type": "code",
   "execution_count": 7,
   "metadata": {},
   "outputs": [
    {
     "data": {
      "text/latex": [
       "$$ y $$"
      ],
      "text/plain": [
       "y"
      ]
     },
     "execution_count": 7,
     "metadata": {},
     "output_type": "execute_result"
    }
   ],
   "source": [
    "#VARIABLES\n",
    "#---------\n",
    "\n",
    "# A variable is modelled using @variable(name of the model object, variable name and bound, variable type)\n",
    "# Bound can be lower bound, upper bound or both. If no variable type is defined, then it is treated as \n",
    "# real. For binary variable write Bin and for integer use Int.\n",
    "\n",
    "@variable(myModel, x >= 0) # Models x >=0\n",
    "\n",
    "# Some possible variations:\n",
    "# @variable(myModel, x, Binary) # No bound on x present, but x is a binary variable now\n",
    "# @variable(myModel, x <= 10) # This one defines a variable with lower bound x <= 10\n",
    "# @variable(myModel, 0 <= x <= 10, Int) # This one has both lower and upper bound, and x is an integer\n",
    "\n",
    "@variable(myModel, y >= 0) # Models y >= 0"
   ]
  },
  {
   "cell_type": "code",
   "execution_count": 8,
   "metadata": {
    "scrolled": true
   },
   "outputs": [
    {
     "name": "stdout",
     "output_type": "stream",
     "text": [
      "The optimization problem to be solved is:\n",
      "Min x + y\n",
      "Subject to\n",
      " x + y <= 1\n",
      " x >= 0\n",
      " y >= 0\n"
     ]
    }
   ],
   "source": [
    "#OBJECTIVE\n",
    "#---------\n",
    "\n",
    "@objective(myModel, Min, x + y) # Sets the objective to be minimized. For maximization use Max\n",
    "\n",
    "#CONSTRAINTS\n",
    "#-----------\n",
    "\n",
    "@constraint(myModel, x + y <= 1) # Adds the constraint x + y <= 1\n",
    "\n",
    "#PRINT THE MODEL IN A HUMAN-READABLE FORMAT\n",
    "#------------------------------------------\n",
    "println(\"The optimization problem to be solved is:\")\n",
    "print(myModel) # Shows the model constructed in a human-readable form"
   ]
  },
  {
   "cell_type": "code",
   "execution_count": 9,
   "metadata": {},
   "outputs": [
    {
     "data": {
      "text/plain": [
       ":Optimal"
      ]
     },
     "execution_count": 9,
     "metadata": {},
     "output_type": "execute_result"
    }
   ],
   "source": [
    "#SOLVE IT\n",
    "#--------\n",
    "\n",
    "status = solve(myModel) # solves the model  "
   ]
  },
  {
   "cell_type": "code",
   "execution_count": 10,
   "metadata": {},
   "outputs": [
    {
     "name": "stdout",
     "output_type": "stream",
     "text": [
      "Objective value: 0.0\n",
      "x = 0.0\n",
      "y = 0.0\n"
     ]
    }
   ],
   "source": [
    "#DISPLAY THE RESULTS\n",
    "#-------------------\n",
    "\n",
    "println(\"Objective value: \", getobjectivevalue(myModel)) # getobjectivevalue(model_name) gives the optimum objective value\n",
    "println(\"x = \", getvalue(x)) # getvalue(decision_variable) will give the optimum value of the associated decision variable\n",
    "println(\"y = \", getvalue(y))"
   ]
  },
  {
   "cell_type": "code",
   "execution_count": null,
   "metadata": {},
   "outputs": [],
   "source": []
  }
 ],
 "metadata": {
  "kernelspec": {
   "display_name": "Julia 1.0.2",
   "language": "julia",
   "name": "julia-1.0"
  },
  "language_info": {
   "file_extension": ".jl",
   "mimetype": "application/julia",
   "name": "julia",
   "version": "1.0.2"
  }
 },
 "nbformat": 4,
 "nbformat_minor": 2
}
