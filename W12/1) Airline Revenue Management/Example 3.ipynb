{
 "cells": [
  {
   "cell_type": "code",
   "execution_count": 1,
   "metadata": {},
   "outputs": [
    {
     "name": "stderr",
     "output_type": "stream",
     "text": [
      "┌ Info: Precompiling GLPKMathProgInterface [3c7084bd-78ad-589a-b5bb-dbd673274bea]\n",
      "└ @ Base loading.jl:1192\n",
      "ERROR: LoadError: LoadError: InitError: UndefVarError: libglpk not defined\n",
      "Stacktrace:\n",
      " [1] version at C:\\Users\\Striker\\.julia\\packages\\GLPK\\bSnuc\\src\\GLPK.jl:227 [inlined]\n",
      " [2] __init__() at C:\\Users\\Striker\\.julia\\packages\\GLPK\\bSnuc\\src\\GLPK.jl:247\n",
      " [3] _include_from_serialized(::String, ::Array{Any,1}) at .\\loading.jl:633\n",
      " [4] macro expansion at .\\logging.jl:310 [inlined]\n",
      " [5] _require_search_from_serialized(::Base.PkgId, ::String) at .\\loading.jl:704\n",
      " [6] _require(::Base.PkgId) at .\\loading.jl:937\n",
      " [7] require(::Base.PkgId) at .\\loading.jl:858\n",
      " [8] macro expansion at .\\logging.jl:309 [inlined]\n",
      " [9] require(::Module, ::Symbol) at .\\loading.jl:840\n",
      " [10] include at .\\boot.jl:317 [inlined]\n",
      " [11] include_relative(::Module, ::String) at .\\loading.jl:1044\n",
      " [12] include at .\\sysimg.jl:29 [inlined]\n",
      " [13] include(::String) at C:\\Users\\Striker\\.julia\\packages\\GLPKMathProgInterface\\8q6jt\\src\\GLPKMathProgInterface.jl:2\n",
      " [14] top-level scope at none:0\n",
      " [15] include at .\\boot.jl:317 [inlined]\n",
      " [16] include_relative(::Module, ::String) at .\\loading.jl:1044\n",
      " [17] include(::Module, ::String) at .\\sysimg.jl:29\n",
      " [18] top-level scope at none:2\n",
      " [19] eval at .\\boot.jl:319 [inlined]\n",
      " [20] eval(::Expr) at .\\client.jl:393\n",
      " [21] top-level scope at .\\none:3\n",
      "during initialization of module GLPK\n",
      "in expression starting at C:\\Users\\Striker\\.julia\\packages\\GLPKMathProgInterface\\8q6jt\\src\\GLPKInterfaceBase.jl:6\n",
      "in expression starting at C:\\Users\\Striker\\.julia\\packages\\GLPKMathProgInterface\\8q6jt\\src\\GLPKMathProgInterface.jl:10\n"
     ]
    },
    {
     "ename": "ErrorException",
     "evalue": "Failed to precompile GLPKMathProgInterface [3c7084bd-78ad-589a-b5bb-dbd673274bea] to C:\\Users\\Striker\\.julia\\compiled\\v1.0\\GLPKMathProgInterface\\Y5bTM.ji.",
     "output_type": "error",
     "traceback": [
      "Failed to precompile GLPKMathProgInterface [3c7084bd-78ad-589a-b5bb-dbd673274bea] to C:\\Users\\Striker\\.julia\\compiled\\v1.0\\GLPKMathProgInterface\\Y5bTM.ji.",
      "",
      "Stacktrace:",
      " [1] error(::String) at .\\error.jl:33",
      " [2] macro expansion at .\\logging.jl:311 [inlined]",
      " [3] compilecache(::Base.PkgId, ::String) at .\\loading.jl:1190",
      " [4] macro expansion at .\\logging.jl:309 [inlined]",
      " [5] _require(::Base.PkgId) at .\\loading.jl:947",
      " [6] require(::Base.PkgId) at .\\loading.jl:858",
      " [7] macro expansion at .\\logging.jl:309 [inlined]",
      " [8] require(::Module, ::Symbol) at .\\loading.jl:840",
      " [9] top-level scope at In[1]:4"
     ]
    }
   ],
   "source": [
    "#LOAD PACKAGES\n",
    "#-------------\n",
    "using JuMP  # Need to say it whenever we use JuMP\n",
    "using GLPKMathProgInterface # Loading the GLPK module for using its solver\n",
    "\n",
    "#MODEL CONSTRUCTION\n",
    "#------------------\n",
    "sfMipModel = Model(solver = GLPKSolverMIP()) # This time, we use the MIP solver! "
   ]
  },
  {
   "cell_type": "code",
   "execution_count": 15,
   "metadata": {},
   "outputs": [
    {
     "data": {
      "text/plain": [
       "1×3 Array{Float64,2}:\n",
       " 0.1716  0.361  0.0705"
      ]
     },
     "execution_count": 15,
     "metadata": {},
     "output_type": "execute_result"
    }
   ],
   "source": [
    "#INPUT DATA\n",
    "#----------\n",
    "\n",
    "n = 5 # no. of continuous decision variables\n",
    "p = 4 # no. of integer decision variables\n",
    "m = 3 # no. of constraints\n",
    "\n",
    "# coefficients\n",
    "A = [0.7511 -0.1357 0.7955 -0.4567 0.1356; -0.6670 -0.3326 0.1657 -0.5519 -0.9367; 1.5894 -0.1302 -0.4313 -0.4875 0.4179]\n",
    "B = [-0.09520 -0.28056 -1.33978 0.6506; -0.8581 -0.3518 1.2788 1.5114; -0.5925 1.3477 0.1589 0.03495]\n",
    "c = [0.3468 0.8687 0.1200 0.5024 0.2884]\n",
    "d = [0.2017 0.2712 0.4997 0.9238]\n",
    "f = [0.1716 0.3610 0.0705]"
   ]
  },
  {
   "cell_type": "code",
   "execution_count": 6,
   "metadata": {},
   "outputs": [
    {
     "data": {
      "text/latex": [
       "$$ y_{i} \\geq 0, \\in \\mathbb{Z}, \\quad\\forall i \\in \\{1,2,3,4\\} $$"
      ],
      "text/plain": [
       "4-element Array{Variable,1}:\n",
       " y[1]\n",
       " y[2]\n",
       " y[3]\n",
       " y[4]"
      ]
     },
     "execution_count": 6,
     "metadata": {},
     "output_type": "execute_result"
    }
   ],
   "source": [
    "#VARIABLES\n",
    "#---------\n",
    "\n",
    "# We work with the two vectors of decision variables\n",
    "@variable(sfMipModel, x[1:n] >=0) # continuous\n",
    "@variable(sfMipModel, y[1:p] >= 0, Int) # integer "
   ]
  },
  {
   "cell_type": "code",
   "execution_count": 11,
   "metadata": {},
   "outputs": [],
   "source": [
    "#CONSTRAINTS\n",
    "#-----------\n",
    "\n",
    "for i = 1:m\n",
    "    @constraint(sfMipModel, sum{A[i,j]*x[j], j=1:n} + sum{B[i,j]*y[j], j=1:p} == f[i]) \n",
    "end"
   ]
  },
  {
   "cell_type": "code",
   "execution_count": 12,
   "metadata": {
    "scrolled": true
   },
   "outputs": [
    {
     "name": "stdout",
     "output_type": "stream",
     "text": [
      "The optimization problem to be solved is:\n",
      "Min 0.3468 x[1] + 0.8687 x[2] + 0.12 x[3] + 0.5024 x[4] + 0.2884 x[5] + 0.2017 y[1] + 0.2712 y[2] + 0.4997 y[3] + 0.9238 y[4]\n",
      "Subject to\n",
      " 0.7511 x[1] - 0.1357 x[2] + 0.7955 x[3] - 0.4567 x[4] + 0.1356 x[5] - 0.0952 y[1] - 0.28056 y[2] - 1.33978 y[3] + 0.6506 y[4] = 0.1716\n",
      " -0.667 x[1] - 0.3326 x[2] + 0.1657 x[3] - 0.5519 x[4] - 0.9367 x[5] - 0.8581 y[1] - 0.3518 y[2] + 1.2788 y[3] + 1.5114 y[4] = 0.361\n",
      " 1.5894 x[1] - 0.1302 x[2] - 0.4313 x[3] - 0.4875 x[4] + 0.4179 x[5] - 0.5925 y[1] + 1.3477 y[2] + 0.1589 y[3] + 0.03495 y[4] = 0.0705\n",
      " x[i] ≥ 0 ∀ i ∈ {1,2,3,4,5}\n",
      " y[i] ≥ 0, integer, ∀ i ∈ {1,2,3,4}\n"
     ]
    }
   ],
   "source": [
    "#OBJECTIVE\n",
    "#---------\n",
    "\n",
    "# Minimize cTx\n",
    "@objective(sfMipModel, Min, sum{c[i] * x[i], i in 1:n} + sum{d[i]*y[i], i in 1:p}) \n",
    "\n",
    "\n",
    "#PRINT THE MODEL IN A HUMAN-READABLE FORMAT\n",
    "#------------------------------------------\n",
    "println(\"The optimization problem to be solved is:\")\n",
    "print(sfMipModel) # Shows the model constructed in a human-readable form"
   ]
  },
  {
   "cell_type": "code",
   "execution_count": 13,
   "metadata": {},
   "outputs": [
    {
     "data": {
      "text/plain": [
       ":Optimal"
      ]
     },
     "execution_count": 13,
     "metadata": {},
     "output_type": "execute_result"
    }
   ],
   "source": [
    "#SOLVE IT\n",
    "#--------\n",
    "\n",
    "status = solve(sfMipModel) # solves the model  "
   ]
  },
  {
   "cell_type": "code",
   "execution_count": 14,
   "metadata": {},
   "outputs": [
    {
     "name": "stdout",
     "output_type": "stream",
     "text": [
      "Objective value: 1.070277955983598\n",
      "x = [0.0654907, 0.0, 1.62986, 0.0, 1.22151]\n",
      "y = [0.0, 0.0, 1.0, 0.0]\n"
     ]
    }
   ],
   "source": [
    "#DISPLAY THE RESULTS\n",
    "#-------------------\n",
    "\n",
    "println(\"Objective value: \", getobjectivevalue(sfMipModel)) \n",
    "println(\"x = \", getvalue(x))\n",
    "println(\"y = \", getvalue(y))"
   ]
  },
  {
   "cell_type": "code",
   "execution_count": null,
   "metadata": {},
   "outputs": [],
   "source": []
  }
 ],
 "metadata": {
  "kernelspec": {
   "display_name": "Julia 1.0.2",
   "language": "julia",
   "name": "julia-1.0"
  },
  "language_info": {
   "file_extension": ".jl",
   "mimetype": "application/julia",
   "name": "julia",
   "version": "1.0.2"
  }
 },
 "nbformat": 4,
 "nbformat_minor": 2
}
