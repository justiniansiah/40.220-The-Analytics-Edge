{
 "cells": [
  {
   "cell_type": "code",
   "execution_count": 3,
   "metadata": {},
   "outputs": [
    {
     "name": "stdout",
     "output_type": "stream",
     "text": [
      "\u001b[32m\u001b[1m    Status\u001b[22m\u001b[39m `C:\\Users\\Striker\\.julia\\environments\\v1.0\\Project.toml`\n",
      " \u001b[90m [9961bab8]\u001b[39m\u001b[37m Cbc v0.4.2\u001b[39m\n",
      " \u001b[90m [e2554f3b]\u001b[39m\u001b[37m Clp v0.5.1\u001b[39m\n",
      " \u001b[90m [a93c6f00]\u001b[39m\u001b[37m DataFrames v0.14.1\u001b[39m\n",
      " \u001b[90m [3c7084bd]\u001b[39m\u001b[37m GLPKMathProgInterface v0.4.4\u001b[39m\n",
      " \u001b[90m [7073ff75]\u001b[39m\u001b[37m IJulia v1.14.1\u001b[39m\n",
      " \u001b[90m [4076af6c]\u001b[39m\u001b[37m JuMP v0.18.4\u001b[39m\n"
     ]
    }
   ],
   "source": [
    "import Pkg\n",
    "Pkg.status() # Check which packages have been installed"
   ]
  },
  {
   "cell_type": "code",
   "execution_count": 4,
   "metadata": {},
   "outputs": [
    {
     "name": "stdout",
     "output_type": "stream",
     "text": [
      "\u001b[32m\u001b[1m  Updating\u001b[22m\u001b[39m registry at `C:\\Users\\Striker\\.julia\\registries\\General`\n",
      "\u001b[32m\u001b[1m  Updating\u001b[22m\u001b[39m git-repo `https://github.com/JuliaRegistries/General.git`\n",
      "\u001b[?25l\u001b[2K\u001b[?25h\u001b[32m\u001b[1m Resolving\u001b[22m\u001b[39m package versions...\n",
      "\u001b[32m\u001b[1m  Updating\u001b[22m\u001b[39m `C:\\Users\\Striker\\.julia\\environments\\v1.0\\Project.toml`\n",
      "\u001b[90m [no changes]\u001b[39m\n",
      "\u001b[32m\u001b[1m  Updating\u001b[22m\u001b[39m `C:\\Users\\Striker\\.julia\\environments\\v1.0\\Manifest.toml`\n",
      "\u001b[90m [no changes]\u001b[39m\n"
     ]
    }
   ],
   "source": [
    "Pkg.update() # To update packages"
   ]
  },
  {
   "cell_type": "code",
   "execution_count": 3,
   "metadata": {},
   "outputs": [
    {
     "name": "stdout",
     "output_type": "stream",
     "text": [
      "\u001b[32m\u001b[1m Resolving\u001b[22m\u001b[39m package versions...\n",
      "\u001b[32m\u001b[1m Installed\u001b[22m\u001b[39m CPLEX ─ v0.4.1\n",
      "\u001b[32m\u001b[1m  Updating\u001b[22m\u001b[39m `C:\\Users\\Striker\\.julia\\environments\\v1.0\\Project.toml`\n",
      " \u001b[90m [a076750e]\u001b[39m\u001b[92m + CPLEX v0.4.1\u001b[39m\n",
      "\u001b[32m\u001b[1m  Updating\u001b[22m\u001b[39m `C:\\Users\\Striker\\.julia\\environments\\v1.0\\Manifest.toml`\n",
      " \u001b[90m [a076750e]\u001b[39m\u001b[92m + CPLEX v0.4.1\u001b[39m\n",
      "\u001b[32m\u001b[1m  Building\u001b[22m\u001b[39m CPLEX → `C:\\Users\\Striker\\.julia\\packages\\CPLEX\\DkMdP\\deps\\build.log`\n",
      "\u001b[32m\u001b[1m Resolving\u001b[22m\u001b[39m package versions...\n"
     ]
    },
    {
     "name": "stderr",
     "output_type": "stream",
     "text": [
      "┌ Error: Error building `CPLEX`: \n",
      "│ ERROR: LoadError: Unable to locate CPLEX installation. Note this must be downloaded separately. See the CPLEX.jl README for further instructions.\n",
      "│ Stacktrace:\n",
      "│  [1] error(::String) at .\\error.jl:33\n",
      "│  [2] top-level scope at C:\\Users\\Striker\\.julia\\packages\\CPLEX\\DkMdP\\deps\\build.jl:69\n",
      "│  [3] include at .\\boot.jl:317 [inlined]\n",
      "│  [4] include_relative(::Module, ::String) at .\\loading.jl:1044\n",
      "│  [5] include(::Module, ::String) at .\\sysimg.jl:29\n",
      "│  [6] include(::String) at .\\client.jl:392\n",
      "│  [7] top-level scope at none:0\n",
      "│ in expression starting at C:\\Users\\Striker\\.julia\\packages\\CPLEX\\DkMdP\\deps\\build.jl:68\n",
      "└ @ Pkg.Operations C:\\cygwin\\home\\Administrator\\buildbot\\worker\\package_win64\\build\\usr\\share\\julia\\stdlib\\v1.0\\Pkg\\src\\Operations.jl:1097\n"
     ]
    },
    {
     "name": "stdout",
     "output_type": "stream",
     "text": [
      "\u001b[32m\u001b[1m Installed\u001b[22m\u001b[39m Gurobi ─ v0.5.6\n",
      "\u001b[32m\u001b[1m  Updating\u001b[22m\u001b[39m `C:\\Users\\Striker\\.julia\\environments\\v1.0\\Project.toml`\n",
      " \u001b[90m [2e9cd046]\u001b[39m\u001b[92m + Gurobi v0.5.6\u001b[39m\n",
      "\u001b[32m\u001b[1m  Updating\u001b[22m\u001b[39m `C:\\Users\\Striker\\.julia\\environments\\v1.0\\Manifest.toml`\n",
      " \u001b[90m [2e9cd046]\u001b[39m\u001b[92m + Gurobi v0.5.6\u001b[39m\n",
      "\u001b[32m\u001b[1m  Building\u001b[22m\u001b[39m Gurobi → `C:\\Users\\Striker\\.julia\\packages\\Gurobi\\kaIvm\\deps\\build.log`\n"
     ]
    },
    {
     "name": "stderr",
     "output_type": "stream",
     "text": [
      "┌ Error: Error building `Gurobi`: \n",
      "│ ERROR: LoadError: Unable to locate Gurobi installation. Note that this must be downloaded separately from gurobi.com\n",
      "│ Stacktrace:\n",
      "│  [1] error(::String) at .\\error.jl:33\n",
      "│  [2] top-level scope at C:\\Users\\Striker\\.julia\\packages\\Gurobi\\kaIvm\\deps\\build.jl:50\n",
      "│  [3] include at .\\boot.jl:317 [inlined]\n",
      "│  [4] include_relative(::Module, ::String) at .\\loading.jl:1044\n",
      "│  [5] include(::Module, ::String) at .\\sysimg.jl:29\n",
      "│  [6] include(::String) at .\\client.jl:392\n",
      "│  [7] top-level scope at none:0\n",
      "│ in expression starting at C:\\Users\\Striker\\.julia\\packages\\Gurobi\\kaIvm\\deps\\build.jl:49\n",
      "└ @ Pkg.Operations C:\\cygwin\\home\\Administrator\\buildbot\\worker\\package_win64\\build\\usr\\share\\julia\\stdlib\\v1.0\\Pkg\\src\\Operations.jl:1097\n"
     ]
    }
   ],
   "source": [
    "# Install packages for Optimization\n",
    "Pkg.add(\"JuMP\") # package for defining optimization problem\n",
    "Pkg.add(\"GLPKMathProgInterface\") # solver for LP\n",
    "Pkg.add(\"Cbc\") # solver LP and MILP\n",
    "Pkg.add(\"Clp\") # solver for LP\n",
    "# Pkg.add(\"CPLEX\") # Working installation of CPLEX is needed in advance\n",
    "# Pkg.add(\"Gurobi\") # Working installation of Gurobi is needed in advance"
   ]
  },
  {
   "cell_type": "code",
   "execution_count": 6,
   "metadata": {},
   "outputs": [
    {
     "name": "stdout",
     "output_type": "stream",
     "text": [
      "\u001b[32m\u001b[1m Resolving\u001b[22m\u001b[39m package versions...\n",
      "\u001b[32m\u001b[1m  Updating\u001b[22m\u001b[39m `C:\\Users\\Striker\\.julia\\environments\\v1.0\\Project.toml`\n",
      "\u001b[90m [no changes]\u001b[39m\n",
      "\u001b[32m\u001b[1m  Updating\u001b[22m\u001b[39m `C:\\Users\\Striker\\.julia\\environments\\v1.0\\Manifest.toml`\n",
      "\u001b[90m [no changes]\u001b[39m\n"
     ]
    }
   ],
   "source": [
    "# Install packages for handling DataFrames\n",
    "Pkg.add(\"DataFrames\")"
   ]
  },
  {
   "cell_type": "code",
   "execution_count": null,
   "metadata": {},
   "outputs": [],
   "source": [
    "# Remove package\n",
    "# Pkg.rm(\"Cbc\")"
   ]
  }
 ],
 "metadata": {
  "kernelspec": {
   "display_name": "Julia 1.0.2",
   "language": "julia",
   "name": "julia-1.0"
  },
  "language_info": {
   "file_extension": ".jl",
   "mimetype": "application/julia",
   "name": "julia",
   "version": "1.0.2"
  }
 },
 "nbformat": 4,
 "nbformat_minor": 2
}
