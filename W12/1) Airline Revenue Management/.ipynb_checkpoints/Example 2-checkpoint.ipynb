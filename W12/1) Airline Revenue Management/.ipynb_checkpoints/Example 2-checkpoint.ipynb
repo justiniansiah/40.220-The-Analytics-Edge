{
 "cells": [
  {
   "cell_type": "code",
   "execution_count": 1,
   "metadata": {},
   "outputs": [
    {
     "data": {
      "text/latex": [
       "$$ \\begin{alignat*}{1}\\min\\quad & 0\\\\\n",
       "\\text{Subject to} \\quad\\end{alignat*}\n",
       " $$"
      ],
      "text/plain": [
       "Feasibility problem with:\n",
       " * 0 linear constraints\n",
       " * 0 variables\n",
       "Solver is GLPKMathProgInterface.GLPKInterfaceLP.GLPK"
      ]
     },
     "execution_count": 1,
     "metadata": {},
     "output_type": "execute_result"
    }
   ],
   "source": [
    "#LOAD PACKAGES\n",
    "#-------------\n",
    "using JuMP  # Need to say it whenever we use JuMP\n",
    "using GLPKMathProgInterface # Loading the GLPK module for using its solver\n",
    "\n",
    "#MODEL CONSTRUCTION\n",
    "#------------------\n",
    "sfLpModel = Model(solver=GLPKSolverLP()) "
   ]
  },
  {
   "cell_type": "code",
   "execution_count": 5,
   "metadata": {},
   "outputs": [
    {
     "data": {
      "text/plain": [
       "(3, 4)"
      ]
     },
     "execution_count": 5,
     "metadata": {},
     "output_type": "execute_result"
    }
   ],
   "source": [
    "#INPUT DATA\n",
    "#----------\n",
    "\n",
    "# Coefficients for cTx\n",
    "c = [1; 3; 5; 2]  #semicolon denotes row\n",
    "\n",
    "# Coefficients for Ax = b\n",
    "A= [1 1 9 5; 3 5 0 8; 2 0 6 13]\n",
    "b = [7; 3; 5] \n",
    "\n",
    "# Number of constraints (m) and decision variables (n)\n",
    "m, n = size(A) "
   ]
  },
  {
   "cell_type": "code",
   "execution_count": 6,
   "metadata": {},
   "outputs": [
    {
     "data": {
      "text/latex": [
       "$$ x_{i} \\geq 0 \\quad\\forall i \\in \\{1,2,3,4\\} $$"
      ],
      "text/plain": [
       "4-element Array{Variable,1}:\n",
       " x[1]\n",
       " x[2]\n",
       " x[3]\n",
       " x[4]"
      ]
     },
     "execution_count": 6,
     "metadata": {},
     "output_type": "execute_result"
    }
   ],
   "source": [
    "#VARIABLES\n",
    "#---------\n",
    "\n",
    "# We work with the vector of decision variables\n",
    "@variable(sfLpModel, x[1:n] >= 0) "
   ]
  },
  {
   "cell_type": "code",
   "execution_count": 8,
   "metadata": {},
   "outputs": [],
   "source": [
    "#CONSTRAINTS\n",
    "#-----------\n",
    "\n",
    "# We use a for loop (with i = 1, 2, 3) to define the three constraints\n",
    "for i = 1:m\n",
    "    @constraint(sfLpModel, sum{A[i,j]*x[j] , j=1:n} == b[i]) \n",
    "end"
   ]
  },
  {
   "cell_type": "code",
   "execution_count": 9,
   "metadata": {
    "scrolled": true
   },
   "outputs": [
    {
     "name": "stdout",
     "output_type": "stream",
     "text": [
      "The optimization problem to be solved is:\n",
      "Min x[1] + 3 x[2] + 5 x[3] + 2 x[4]\n",
      "Subject to\n",
      " x[1] + x[2] + 9 x[3] + 5 x[4] = 7\n",
      " 3 x[1] + 5 x[2] + 8 x[4] = 3\n",
      " 2 x[1] + 6 x[3] + 13 x[4] = 5\n",
      " x[1] + x[2] + 9 x[3] + 5 x[4] = 7\n",
      " 3 x[1] + 5 x[2] + 8 x[4] = 3\n",
      " 2 x[1] + 6 x[3] + 13 x[4] = 5\n",
      " x[i] ≥ 0 ∀ i ∈ {1,2,3,4}\n"
     ]
    }
   ],
   "source": [
    "#OBJECTIVE\n",
    "#---------\n",
    "\n",
    "# Minimize cTx\n",
    "@objective(sfLpModel, Min, sum{c[j]*x[j], j=1:n}) \n",
    "\n",
    "\n",
    "#PRINT THE MODEL IN A HUMAN-READABLE FORMAT\n",
    "#------------------------------------------\n",
    "println(\"The optimization problem to be solved is:\")\n",
    "print(sfLpModel) # Shows the model constructed in a human-readable form"
   ]
  },
  {
   "cell_type": "code",
   "execution_count": 10,
   "metadata": {},
   "outputs": [
    {
     "data": {
      "text/plain": [
       ":Optimal"
      ]
     },
     "execution_count": 10,
     "metadata": {},
     "output_type": "execute_result"
    }
   ],
   "source": [
    "#SOLVE IT\n",
    "#--------\n",
    "\n",
    "status = solve(sfLpModel) # solves the model  "
   ]
  },
  {
   "cell_type": "code",
   "execution_count": 11,
   "metadata": {},
   "outputs": [
    {
     "name": "stdout",
     "output_type": "stream",
     "text": [
      "Objective value: 4.9230769230769225\n",
      "x = [0.423077, 0.346154, 0.692308, 0.0]\n"
     ]
    }
   ],
   "source": [
    "#DISPLAY THE RESULTS\n",
    "#-------------------\n",
    "\n",
    "println(\"Objective value: \", getobjectivevalue(sfLpModel)) \n",
    "println(\"x = \", getvalue(x)) "
   ]
  },
  {
   "cell_type": "code",
   "execution_count": null,
   "metadata": {},
   "outputs": [],
   "source": []
  }
 ],
 "metadata": {
  "kernelspec": {
   "display_name": "Julia 1.0.2",
   "language": "julia",
   "name": "julia-1.0"
  },
  "language_info": {
   "file_extension": ".jl",
   "mimetype": "application/julia",
   "name": "julia",
   "version": "1.0.2"
  }
 },
 "nbformat": 4,
 "nbformat_minor": 2
}
