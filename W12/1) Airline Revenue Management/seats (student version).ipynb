{
 "cells": [
  {
   "cell_type": "code",
   "execution_count": 5,
   "metadata": {},
   "outputs": [
    {
     "data": {
      "text/latex": [
       "$$ \\begin{alignat*}{1}\\min\\quad & 0\\\\\n",
       "\\text{Subject to} \\quad\\end{alignat*}\n",
       " $$"
      ],
      "text/plain": [
       "Feasibility problem with:\n",
       " * 0 linear constraints\n",
       " * 0 variables\n",
       "Solver is Clp"
      ]
     },
     "execution_count": 5,
     "metadata": {},
     "output_type": "execute_result"
    }
   ],
   "source": [
    "#LOAD PACKAGES\n",
    "#-------------\n",
    "using JuMP  # Need to say it whenever we use JuMP\n",
    "#using GLPKMathProgInterface # Loading the GLPK module for using its solver \n",
    "using Clp\n",
    "\n",
    "#MODEL CONSTRUCTION\n",
    "#------------------\n",
    "#model = Model(solver = GLPKSolverLP()) \n",
    "model = Model(solver = ClpSolver()) "
   ]
  },
  {
   "cell_type": "code",
   "execution_count": 6,
   "metadata": {},
   "outputs": [
    {
     "data": {
      "text/plain": [
       "3-element Array{Int64,1}:\n",
       " 140\n",
       " 120\n",
       " 100"
      ]
     },
     "execution_count": 6,
     "metadata": {},
     "output_type": "execute_result"
    }
   ],
   "source": [
    "#INPUT DATA\n",
    "#----------\n",
    "\n",
    "n = 3 # no. of (integer) decision variables for x, y, z\n",
    "\n",
    "# coefficients for obf. f.\n",
    "c = [100; 90; 80]\n",
    "d = [215; 185; 145]\n",
    "e = [140; 120; 100]"
   ]
  },
  {
   "cell_type": "code",
   "execution_count": 7,
   "metadata": {},
   "outputs": [
    {
     "data": {
      "text/latex": [
       "$$ z_{i} \\geq 0 \\quad\\forall i \\in \\{1,2,3\\} $$"
      ],
      "text/plain": [
       "3-element Array{Variable,1}:\n",
       " z[1]\n",
       " z[2]\n",
       " z[3]"
      ]
     },
     "execution_count": 7,
     "metadata": {},
     "output_type": "execute_result"
    }
   ],
   "source": [
    "#VARIABLES\n",
    "#---------\n",
    "\n",
    "# We work with three vectors of decision variables: x, y, and z\n",
    "@variable(model,x[1:n]>=0) # LAX -> DFW \n",
    "@variable(model,y[1:n]>=0) # LAX -> JFK\n",
    "@variable(model,z[1:n]>=0) # DFW -> JFK"
   ]
  },
  {
   "cell_type": "code",
   "execution_count": 11,
   "metadata": {},
   "outputs": [
    {
     "data": {
      "text/latex": [
       "$$ z_{3} \\leq 30 $$"
      ],
      "text/plain": [
       "z[3] <= 30"
      ]
     },
     "execution_count": 11,
     "metadata": {},
     "output_type": "execute_result"
    }
   ],
   "source": [
    "#CONSTRAINTS\n",
    "#-----------\n",
    "\n",
    "@constraint(model,x[1]+x[2]+x[3]+y[1]+y[2]+y[3]<=300) # capacity of LAX -> DFW\n",
    "@constraint(model,y[1]+y[2]+y[3]+z[1]+z[2]+z[3]<=200) # capacity of DFW -> JFK\n",
    "@constraint(model,x[1]<=20) # max seats available on LAX -> DFW (regular)\n",
    "@constraint(model,x[2]<=40) # max seats available on LAX -> DFW (discount)\n",
    "@constraint(model,x[3]<=60) # max seats available on LAX -> DFW (saver)\n",
    "@constraint(model,y[1]<=80) # max seats available on LAX -> JFK (regular)\n",
    "@constraint(model,y[2]<=60) # max seats available on LAX -> JFK (discount)\n",
    "@constraint(model,y[3]<=70) # max seats available on LAX -> JFK (saver)\n",
    "@constraint(model,z[1]<=20) # max seats available on DFW -> JFK (regular)\n",
    "@constraint(model,z[2]<=20) # max seats available on DFW -> JFK (discount)\n",
    "@constraint(model,z[3]<=30) # max seats available on DFW -> JFK (saver)"
   ]
  },
  {
   "cell_type": "code",
   "execution_count": 12,
   "metadata": {
    "scrolled": true
   },
   "outputs": [
    {
     "name": "stdout",
     "output_type": "stream",
     "text": [
      "The optimization problem to be solved is:\n",
      "Max 100 x[1] + 215 y[1] + 140 z[1] + 90 x[2] + 185 y[2] + 120 z[2] + 80 x[3] + 145 y[3] + 100 z[3]\n",
      "Subject to\n",
      " x[1] + x[2] + x[3] + y[1] + y[2] + y[3] <= 300\n",
      " x[1] + x[2] + x[3] + y[1] + y[2] + y[3] <= 300\n",
      " y[1] + y[2] + y[3] + z[1] + z[2] + z[3] <= 200\n",
      " x[1] <= 20\n",
      " x[2] <= 40\n",
      " x[3] <= 60\n",
      " y[1] <= 80\n",
      " y[2] <= 60\n",
      " y[3] <= 70\n",
      " z[1] <= 20\n",
      " z[2] <= 20\n",
      " z[3] <= 30\n",
      " x[1] + x[2] + x[3] + y[1] + y[2] + y[3] <= 300\n",
      " y[1] + y[2] + y[3] + z[1] + z[2] + z[3] <= 200\n",
      " x[1] <= 20\n",
      " x[2] <= 40\n",
      " x[3] <= 60\n",
      " y[1] <= 80\n",
      " y[2] <= 60\n",
      " y[3] <= 70\n",
      " z[1] <= 20\n",
      " z[2] <= 20\n",
      " z[3] <= 30\n",
      " x[i] >= 0 for all i in {1,2,3}\n",
      " y[i] >= 0 for all i in {1,2,3}\n",
      " z[i] >= 0 for all i in {1,2,3}\n"
     ]
    }
   ],
   "source": [
    "#OBJECTIVE\n",
    "#---------\n",
    "\n",
    "# Maximize cTx + dTy + eTz\n",
    "@objective(model, Max, sum{c[j]*x[j] + d[j]*y[j] + e[j]*z[j], j=1:n}) \n",
    "\n",
    "#PRINT THE MODEL IN A HUMAN-READABLE FORMAT\n",
    "#------------------------------------------\n",
    "println(\"The optimization problem to be solved is:\")\n",
    "print(model) # Shows the model constructed in a human-readable form"
   ]
  },
  {
   "cell_type": "code",
   "execution_count": 13,
   "metadata": {},
   "outputs": [
    {
     "data": {
      "text/plain": [
       ":Optimal"
      ]
     },
     "execution_count": 13,
     "metadata": {},
     "output_type": "execute_result"
    }
   ],
   "source": [
    "#SOLVE IT\n",
    "#--------\n",
    "\n",
    "status = solve(model) # solves the model  "
   ]
  },
  {
   "cell_type": "code",
   "execution_count": 14,
   "metadata": {},
   "outputs": [
    {
     "name": "stdout",
     "output_type": "stream",
     "text": [
      "Objective value: 47300.0\n",
      "x = [20.0, 40.0, 60.0]\n",
      "y = [80.0, 60.0, 40.0]\n",
      "z = [20.0, 0.0, 0.0]\n"
     ]
    }
   ],
   "source": [
    "#DISPLAY THE RESULTS\n",
    "#-------------------\n",
    "\n",
    "println(\"Objective value: \", getobjectivevalue(model)) \n",
    "println(\"x = \", getvalue(x)) \n",
    "println(\"y = \", getvalue(y)) \n",
    "println(\"z = \", getvalue(z)) "
   ]
  },
  {
   "cell_type": "code",
   "execution_count": null,
   "metadata": {},
   "outputs": [],
   "source": []
  }
 ],
 "metadata": {
  "kernelspec": {
   "display_name": "Julia 1.0.2",
   "language": "julia",
   "name": "julia-1.0"
  },
  "language_info": {
   "file_extension": ".jl",
   "mimetype": "application/julia",
   "name": "julia",
   "version": "1.0.2"
  }
 },
 "nbformat": 4,
 "nbformat_minor": 2
}
